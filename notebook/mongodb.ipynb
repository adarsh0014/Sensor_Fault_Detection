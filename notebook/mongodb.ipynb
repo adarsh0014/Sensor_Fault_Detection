{
 "cells": [
  {
   "cell_type": "code",
   "execution_count": 1,
   "id": "300928b0",
   "metadata": {},
   "outputs": [],
   "source": [
    "import pymongo"
   ]
  },
  {
   "cell_type": "code",
   "execution_count": 2,
   "id": "77818042",
   "metadata": {},
   "outputs": [
    {
     "name": "stdout",
     "output_type": "stream",
     "text": [
      "4.2.0\n"
     ]
    }
   ],
   "source": [
    "print(pymongo.version)"
   ]
  },
  {
   "cell_type": "code",
   "execution_count": 2,
   "id": "e023e81b",
   "metadata": {},
   "outputs": [],
   "source": [
    "from pymongo import MongoClient\n",
    "from pymongo.server_api import ServerApi"
   ]
  },
  {
   "cell_type": "code",
   "execution_count": null,
   "id": "98ad8559",
   "metadata": {},
   "outputs": [],
   "source": [
    "connection_string = \"mongodb+srv://adarsh_keshrwani:<password>cluster0.sjao0ey.mongodb.net/?retryWrites=true&w=majority&appName=Cluster0\""
   ]
  },
  {
   "cell_type": "code",
   "execution_count": 4,
   "id": "9f79ba13",
   "metadata": {},
   "outputs": [],
   "source": [
    "client = MongoClient(connection_string)"
   ]
  },
  {
   "cell_type": "markdown",
   "id": "f52ffeaf",
   "metadata": {},
   "source": [
    "client->database->collection->data store"
   ]
  },
  {
   "cell_type": "code",
   "execution_count": 5,
   "id": "8468a237",
   "metadata": {},
   "outputs": [],
   "source": [
    "db = client['liveclass']"
   ]
  },
  {
   "cell_type": "code",
   "execution_count": 6,
   "id": "81592beb",
   "metadata": {},
   "outputs": [],
   "source": [
    "collection = db['mongoclass']"
   ]
  },
  {
   "cell_type": "code",
   "execution_count": 7,
   "id": "82bf0cf0",
   "metadata": {},
   "outputs": [
    {
     "data": {
      "text/plain": [
       "<pymongo.results.InsertOneResult at 0x2333b4538b0>"
      ]
     },
     "execution_count": 7,
     "metadata": {},
     "output_type": "execute_result"
    }
   ],
   "source": [
    "collection.insert_one({\n",
    "    'name':'Adarsh Keshrwani',\n",
    "    'age': 22,\n",
    "    'batch': 2025\n",
    "})"
   ]
  },
  {
   "cell_type": "code",
   "execution_count": 8,
   "id": "4cf4bdfe",
   "metadata": {},
   "outputs": [
    {
     "name": "stdout",
     "output_type": "stream",
     "text": [
      "{'_id': ObjectId('68f22e6c63e92daee09cbdea'), 'name': 'Adarsh Keshrwani', 'age': 22, 'batch': 2025}\n",
      "{'_id': ObjectId('68f75935fc4d74602f38d62c'), 'name': 'Adarsh Keshrwani', 'age': 22, 'batch': 2025}\n"
     ]
    }
   ],
   "source": [
    "cursor = collection.find()\n",
    "\n",
    "for i in cursor:\n",
    "    print(i)"
   ]
  },
  {
   "cell_type": "code",
   "execution_count": null,
   "id": "a3622cd5",
   "metadata": {},
   "outputs": [],
   "source": []
  },
  {
   "cell_type": "code",
   "execution_count": null,
   "id": "0b0baa4c",
   "metadata": {},
   "outputs": [],
   "source": []
  }
 ],
 "metadata": {
  "kernelspec": {
   "display_name": "Python 3",
   "language": "python",
   "name": "python3"
  },
  "language_info": {
   "codemirror_mode": {
    "name": "ipython",
    "version": 3
   },
   "file_extension": ".py",
   "mimetype": "text/x-python",
   "name": "python",
   "nbconvert_exporter": "python",
   "pygments_lexer": "ipython3",
   "version": "3.9.0"
  }
 },
 "nbformat": 4,
 "nbformat_minor": 5
}
